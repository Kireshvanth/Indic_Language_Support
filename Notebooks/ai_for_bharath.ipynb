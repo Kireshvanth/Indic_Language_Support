{
 "cells": [
  {
   "cell_type": "code",
   "execution_count": null,
   "metadata": {},
   "outputs": [],
   "source": [
    "!git clone https://github.com/AI4Bharat/indicTrans.git\n",
    "%cd indicTrans\n",
    "# clone requirements repositories\n",
    "!git clone https://github.com/anoopkunchukuttan/indic_nlp_library.git\n",
    "!git clone https://github.com/anoopkunchukuttan/indic_nlp_resources.git\n",
    "!git clone https://github.com/rsennrich/subword-nmt.git\n",
    "%cd .."
   ]
  },
  {
   "cell_type": "code",
   "execution_count": null,
   "metadata": {},
   "outputs": [],
   "source": [
    "!pip install sacremoses pandas mock sacrebleu tensorboardX pyarrow indic-nlp-library\n",
    "! pip install mosestokenizer subword-nmt\n",
    "# Install fairseq from source\n",
    "!git clone https://github.com/pytorch/fairseq.git\n",
    "%cd fairseq\n",
    "\n",
    "!pip install --editable ./\n",
    "\n",
    "%cd .."
   ]
  },
  {
   "cell_type": "code",
   "execution_count": 3,
   "metadata": {},
   "outputs": [
    {
     "name": "stdout",
     "output_type": "stream",
     "text": [
      "^C\n",
      "[WinError 2] The system cannot find the file specified: 'indicTrans'\n",
      "e:\\Hackathons\\Build for Bharath\\Indic_Language_Support\\Notebooks\\indicTrans\n"
     ]
    },
    {
     "name": "stderr",
     "output_type": "stream",
     "text": [
      "'unzip' is not recognized as an internal or external command,\n",
      "operable program or batch file.\n",
      "c:\\Users\\Suvan\\AppData\\Local\\Programs\\Python\\Python311\\Lib\\site-packages\\IPython\\core\\magics\\osm.py:393: UserWarning: using bookmarks requires you to install the `pickleshare` library.\n",
      "  bkms = self.shell.db.get('bookmarks', {})\n"
     ]
    }
   ],
   "source": [
    "# download the indictrans model\n",
    "\n",
    "\n",
    "# downloading the indic-en model\n",
    "# !wget https://storage.googleapis.com/samanantar-public/V0.2/models/indic-en.zip\n",
    "# !unzip indic-en.zip\n",
    "\n",
    "# downloading the en-indic model\n",
    "!curl https://storage.googleapis.com/samanantar-public/V0.2/models/en-indic.zip\n",
    "!unzip en-indic.zip\n",
    "\n",
    "# # downloading the indic-indic model\n",
    "# !wget https://storage.googleapis.com/samanantar-public/V0.3/models/m2m.zip\n",
    "# !unzip m2m.zip\n",
    "\n",
    "%cd indicTrans"
   ]
  },
  {
   "cell_type": "code",
   "execution_count": null,
   "metadata": {},
   "outputs": [],
   "source": []
  }
 ],
 "metadata": {
  "kernelspec": {
   "display_name": "Python 3",
   "language": "python",
   "name": "python3"
  },
  "language_info": {
   "codemirror_mode": {
    "name": "ipython",
    "version": 3
   },
   "file_extension": ".py",
   "mimetype": "text/x-python",
   "name": "python",
   "nbconvert_exporter": "python",
   "pygments_lexer": "ipython3",
   "version": "3.11.7"
  }
 },
 "nbformat": 4,
 "nbformat_minor": 2
}
