{
  "cells": [
    {
      "cell_type": "markdown",
      "metadata": {
        "id": "8Aa-nRCzPVdF"
      },
      "source": [
        "# IndicTrans2 HF Inference\n",
        "\n",
        "We provide an example notebook on how to use our IndicTrans2 models which were originally trained with the fairseq to HuggingFace transformers for inference purpose.\n"
      ]
    },
    {
      "cell_type": "markdown",
      "metadata": {
        "id": "Cfsv02IeP2It"
      },
      "source": [
        "## Setup\n",
        "\n",
        "Please run the cells below to install the necessary dependencies.\n"
      ]
    },
    {
      "cell_type": "code",
      "execution_count": 1,
      "metadata": {
        "id": "qKcYlUZYGLrt"
      },
      "outputs": [
        {
          "name": "stdout",
          "output_type": "stream",
          "text": [
            "Cloning into 'IndicTrans2'...\n",
            "remote: Enumerating objects: 634, done.\u001b[K\n",
            "remote: Counting objects: 100% (117/117), done.\u001b[K\n",
            "remote: Compressing objects: 100% (49/49), done.\u001b[K\n",
            "remote: Total 634 (delta 89), reused 75 (delta 68), pack-reused 517\u001b[K\n",
            "Receiving objects: 100% (634/634), 4.09 MiB | 8.47 MiB/s, done.\n",
            "Resolving deltas: 100% (396/396), done.\n"
          ]
        }
      ],
      "source": [
        "\n",
        "!git clone https://github.com/AI4Bharat/IndicTrans2.git"
      ]
    },
    {
      "cell_type": "code",
      "execution_count": 2,
      "metadata": {
        "id": "U3vs7FkIGSxK"
      },
      "outputs": [
        {
          "name": "stdout",
          "output_type": "stream",
          "text": [
            "/Users/jeyam/Programming/Hackathons/Indic_Language_Support/Notebooks/IndicTrans2/huggingface_interface\n"
          ]
        }
      ],
      "source": [
        "\n",
        "%cd IndicTrans2/huggingface_interface"
      ]
    },
    {
      "cell_type": "code",
      "execution_count": 3,
      "metadata": {
        "id": "ddkRAXQ2Git0"
      },
      "outputs": [
        {
          "name": "stdout",
          "output_type": "stream",
          "text": [
            "zsh:1: 4.33.2 not found\n"
          ]
        },
        {
          "name": "stdout",
          "output_type": "stream",
          "text": [
            "Traceback (most recent call last):\n",
            "  File \"<string>\", line 1, in <module>\n",
            "ModuleNotFoundError: No module named 'nltk'\n",
            "Requirement already satisfied: bitsandbytes in /Users/jeyam/miniconda3/lib/python3.11/site-packages (0.42.0)\n",
            "Requirement already satisfied: scipy in /Users/jeyam/miniconda3/lib/python3.11/site-packages (1.11.3)\n",
            "Requirement already satisfied: accelerate in /Users/jeyam/miniconda3/lib/python3.11/site-packages (0.26.1)\n",
            "Requirement already satisfied: datasets in /Users/jeyam/miniconda3/lib/python3.11/site-packages (2.16.1)\n",
            "Requirement already satisfied: numpy<1.28.0,>=1.21.6 in /Users/jeyam/miniconda3/lib/python3.11/site-packages (from scipy) (1.25.2)\n",
            "Requirement already satisfied: packaging>=20.0 in /Users/jeyam/miniconda3/lib/python3.11/site-packages (from accelerate) (23.0)\n",
            "Requirement already satisfied: psutil in /Users/jeyam/miniconda3/lib/python3.11/site-packages (from accelerate) (5.9.0)\n",
            "Requirement already satisfied: pyyaml in /Users/jeyam/miniconda3/lib/python3.11/site-packages (from accelerate) (6.0)\n",
            "Requirement already satisfied: torch>=1.10.0 in /Users/jeyam/miniconda3/lib/python3.11/site-packages (from accelerate) (2.1.0)\n",
            "Requirement already satisfied: huggingface-hub in /Users/jeyam/miniconda3/lib/python3.11/site-packages (from accelerate) (0.20.3)\n",
            "Requirement already satisfied: safetensors>=0.3.1 in /Users/jeyam/miniconda3/lib/python3.11/site-packages (from accelerate) (0.4.2)\n",
            "Requirement already satisfied: filelock in /Users/jeyam/miniconda3/lib/python3.11/site-packages (from datasets) (3.12.4)\n",
            "Requirement already satisfied: pyarrow>=8.0.0 in /Users/jeyam/miniconda3/lib/python3.11/site-packages (from datasets) (15.0.0)\n",
            "Requirement already satisfied: pyarrow-hotfix in /Users/jeyam/miniconda3/lib/python3.11/site-packages (from datasets) (0.6)\n",
            "Requirement already satisfied: dill<0.3.8,>=0.3.0 in /Users/jeyam/miniconda3/lib/python3.11/site-packages (from datasets) (0.3.7)\n",
            "Requirement already satisfied: pandas in /Users/jeyam/miniconda3/lib/python3.11/site-packages (from datasets) (2.1.1)\n",
            "Requirement already satisfied: requests>=2.19.0 in /Users/jeyam/miniconda3/lib/python3.11/site-packages (from datasets) (2.31.0)\n",
            "Requirement already satisfied: tqdm>=4.62.1 in /Users/jeyam/miniconda3/lib/python3.11/site-packages (from datasets) (4.65.0)\n",
            "Requirement already satisfied: xxhash in /Users/jeyam/miniconda3/lib/python3.11/site-packages (from datasets) (3.4.1)\n",
            "Requirement already satisfied: multiprocess in /Users/jeyam/miniconda3/lib/python3.11/site-packages (from datasets) (0.70.15)\n",
            "Requirement already satisfied: fsspec<=2023.10.0,>=2023.1.0 in /Users/jeyam/miniconda3/lib/python3.11/site-packages (from fsspec[http]<=2023.10.0,>=2023.1.0->datasets) (2023.9.2)\n",
            "Requirement already satisfied: aiohttp in /Users/jeyam/miniconda3/lib/python3.11/site-packages (from datasets) (3.9.3)\n",
            "Requirement already satisfied: aiosignal>=1.1.2 in /Users/jeyam/miniconda3/lib/python3.11/site-packages (from aiohttp->datasets) (1.3.1)\n",
            "Requirement already satisfied: attrs>=17.3.0 in /Users/jeyam/miniconda3/lib/python3.11/site-packages (from aiohttp->datasets) (22.1.0)\n",
            "Requirement already satisfied: frozenlist>=1.1.1 in /Users/jeyam/miniconda3/lib/python3.11/site-packages (from aiohttp->datasets) (1.4.1)\n",
            "Requirement already satisfied: multidict<7.0,>=4.5 in /Users/jeyam/miniconda3/lib/python3.11/site-packages (from aiohttp->datasets) (6.0.5)\n",
            "Requirement already satisfied: yarl<2.0,>=1.0 in /Users/jeyam/miniconda3/lib/python3.11/site-packages (from aiohttp->datasets) (1.9.4)\n",
            "Requirement already satisfied: typing-extensions>=3.7.4.3 in /Users/jeyam/miniconda3/lib/python3.11/site-packages (from huggingface-hub->accelerate) (4.7.1)\n",
            "Requirement already satisfied: charset-normalizer<4,>=2 in /Users/jeyam/miniconda3/lib/python3.11/site-packages (from requests>=2.19.0->datasets) (2.0.4)\n",
            "Requirement already satisfied: idna<4,>=2.5 in /Users/jeyam/miniconda3/lib/python3.11/site-packages (from requests>=2.19.0->datasets) (3.4)\n",
            "Requirement already satisfied: urllib3<3,>=1.21.1 in /Users/jeyam/miniconda3/lib/python3.11/site-packages (from requests>=2.19.0->datasets) (1.26.16)\n",
            "Requirement already satisfied: certifi>=2017.4.17 in /Users/jeyam/miniconda3/lib/python3.11/site-packages (from requests>=2.19.0->datasets) (2023.7.22)\n",
            "Requirement already satisfied: sympy in /Users/jeyam/miniconda3/lib/python3.11/site-packages (from torch>=1.10.0->accelerate) (1.12)\n",
            "Requirement already satisfied: networkx in /Users/jeyam/miniconda3/lib/python3.11/site-packages (from torch>=1.10.0->accelerate) (3.1)\n",
            "Requirement already satisfied: jinja2 in /Users/jeyam/miniconda3/lib/python3.11/site-packages (from torch>=1.10.0->accelerate) (3.1.2)\n",
            "Requirement already satisfied: python-dateutil>=2.8.2 in /Users/jeyam/miniconda3/lib/python3.11/site-packages (from pandas->datasets) (2.8.2)\n",
            "Requirement already satisfied: pytz>=2020.1 in /Users/jeyam/miniconda3/lib/python3.11/site-packages (from pandas->datasets) (2022.7)\n",
            "Requirement already satisfied: tzdata>=2022.1 in /Users/jeyam/miniconda3/lib/python3.11/site-packages (from pandas->datasets) (2023.3)\n",
            "Requirement already satisfied: six>=1.5 in /Users/jeyam/miniconda3/lib/python3.11/site-packages (from python-dateutil>=2.8.2->pandas->datasets) (1.16.0)\n",
            "Requirement already satisfied: MarkupSafe>=2.0 in /Users/jeyam/miniconda3/lib/python3.11/site-packages (from jinja2->torch>=1.10.0->accelerate) (2.1.1)\n",
            "Requirement already satisfied: mpmath>=0.19 in /Users/jeyam/miniconda3/lib/python3.11/site-packages (from sympy->torch>=1.10.0->accelerate) (1.3.0)\n",
            "Requirement already satisfied: sentencepiece in /Users/jeyam/miniconda3/lib/python3.11/site-packages (0.1.99)\n",
            "Cloning into 'IndicTransTokenizer'...\n",
            "remote: Enumerating objects: 103, done.\u001b[K\n",
            "remote: Counting objects: 100% (103/103), done.\u001b[K\n",
            "remote: Compressing objects: 100% (68/68), done.\u001b[K\n",
            "remote: Total 103 (delta 45), reused 81 (delta 26), pack-reused 0\u001b[K\n",
            "Receiving objects: 100% (103/103), 3.85 MiB | 4.51 MiB/s, done.\n",
            "Resolving deltas: 100% (45/45), done.\n",
            "/Users/jeyam/Programming/Hackathons/Indic_Language_Support/Notebooks/IndicTrans2/huggingface_interface/IndicTransTokenizer\n",
            "Obtaining file:///Users/jeyam/Programming/Hackathons/Indic_Language_Support/Notebooks/IndicTrans2/huggingface_interface/IndicTransTokenizer\n",
            "  Preparing metadata (setup.py) ... \u001b[?25ldone\n",
            "\u001b[?25hCollecting indic-nlp-library-IT2@ git+https://github.com/VarunGumma/indic_nlp_library (from IndicTransTokenizer==0.1.1)\n",
            "  Cloning https://github.com/VarunGumma/indic_nlp_library to /private/var/folders/m4/817lmlzx26df805ztf8tvs7r0000gn/T/pip-install-i0l4hiys/indic-nlp-library-it2_5ab8b50318a64d75af4ac586864ab372\n",
            "  Running command git clone --filter=blob:none --quiet https://github.com/VarunGumma/indic_nlp_library /private/var/folders/m4/817lmlzx26df805ztf8tvs7r0000gn/T/pip-install-i0l4hiys/indic-nlp-library-it2_5ab8b50318a64d75af4ac586864ab372\n",
            "  Resolved https://github.com/VarunGumma/indic_nlp_library to commit 18e85551b0b331a65d11acf869afd4cfa615bc4c\n",
            "  Preparing metadata (setup.py) ... \u001b[?25ldone\n",
            "\u001b[?25hRequirement already satisfied: setuptools==68.2.2 in /Users/jeyam/miniconda3/lib/python3.11/site-packages (from IndicTransTokenizer==0.1.1) (68.2.2)\n",
            "Requirement already satisfied: torch in /Users/jeyam/miniconda3/lib/python3.11/site-packages (from IndicTransTokenizer==0.1.1) (2.1.0)\n",
            "Requirement already satisfied: sacremoses in /Users/jeyam/miniconda3/lib/python3.11/site-packages (from IndicTransTokenizer==0.1.1) (0.1.1)\n",
            "Requirement already satisfied: sentencepiece in /Users/jeyam/miniconda3/lib/python3.11/site-packages (from IndicTransTokenizer==0.1.1) (0.1.99)\n",
            "Requirement already satisfied: transformers in /Users/jeyam/miniconda3/lib/python3.11/site-packages (from IndicTransTokenizer==0.1.1) (4.37.2)\n",
            "Requirement already satisfied: sphinx-argparse in /Users/jeyam/miniconda3/lib/python3.11/site-packages (from indic-nlp-library-IT2@ git+https://github.com/VarunGumma/indic_nlp_library->IndicTransTokenizer==0.1.1) (0.4.0)\n",
            "Requirement already satisfied: sphinx_rtd_theme in /Users/jeyam/miniconda3/lib/python3.11/site-packages (from indic-nlp-library-IT2@ git+https://github.com/VarunGumma/indic_nlp_library->IndicTransTokenizer==0.1.1) (2.0.0)\n",
            "Requirement already satisfied: morfessor in /Users/jeyam/miniconda3/lib/python3.11/site-packages (from indic-nlp-library-IT2@ git+https://github.com/VarunGumma/indic_nlp_library->IndicTransTokenizer==0.1.1) (2.0.6)\n",
            "Requirement already satisfied: pandas in /Users/jeyam/miniconda3/lib/python3.11/site-packages (from indic-nlp-library-IT2@ git+https://github.com/VarunGumma/indic_nlp_library->IndicTransTokenizer==0.1.1) (2.1.1)\n",
            "Requirement already satisfied: numpy in /Users/jeyam/miniconda3/lib/python3.11/site-packages (from indic-nlp-library-IT2@ git+https://github.com/VarunGumma/indic_nlp_library->IndicTransTokenizer==0.1.1) (1.25.2)\n",
            "Requirement already satisfied: regex in /Users/jeyam/miniconda3/lib/python3.11/site-packages (from sacremoses->IndicTransTokenizer==0.1.1) (2023.12.25)\n",
            "Requirement already satisfied: click in /Users/jeyam/miniconda3/lib/python3.11/site-packages (from sacremoses->IndicTransTokenizer==0.1.1) (8.1.7)\n",
            "Requirement already satisfied: joblib in /Users/jeyam/miniconda3/lib/python3.11/site-packages (from sacremoses->IndicTransTokenizer==0.1.1) (1.3.2)\n",
            "Requirement already satisfied: tqdm in /Users/jeyam/miniconda3/lib/python3.11/site-packages (from sacremoses->IndicTransTokenizer==0.1.1) (4.65.0)\n",
            "Requirement already satisfied: filelock in /Users/jeyam/miniconda3/lib/python3.11/site-packages (from torch->IndicTransTokenizer==0.1.1) (3.12.4)\n",
            "Requirement already satisfied: typing-extensions in /Users/jeyam/miniconda3/lib/python3.11/site-packages (from torch->IndicTransTokenizer==0.1.1) (4.7.1)\n",
            "Requirement already satisfied: sympy in /Users/jeyam/miniconda3/lib/python3.11/site-packages (from torch->IndicTransTokenizer==0.1.1) (1.12)\n",
            "Requirement already satisfied: networkx in /Users/jeyam/miniconda3/lib/python3.11/site-packages (from torch->IndicTransTokenizer==0.1.1) (3.1)\n",
            "Requirement already satisfied: jinja2 in /Users/jeyam/miniconda3/lib/python3.11/site-packages (from torch->IndicTransTokenizer==0.1.1) (3.1.2)\n",
            "Requirement already satisfied: fsspec in /Users/jeyam/miniconda3/lib/python3.11/site-packages (from torch->IndicTransTokenizer==0.1.1) (2023.9.2)\n",
            "Requirement already satisfied: huggingface-hub<1.0,>=0.19.3 in /Users/jeyam/miniconda3/lib/python3.11/site-packages (from transformers->IndicTransTokenizer==0.1.1) (0.20.3)\n",
            "Requirement already satisfied: packaging>=20.0 in /Users/jeyam/miniconda3/lib/python3.11/site-packages (from transformers->IndicTransTokenizer==0.1.1) (23.0)\n",
            "Requirement already satisfied: pyyaml>=5.1 in /Users/jeyam/miniconda3/lib/python3.11/site-packages (from transformers->IndicTransTokenizer==0.1.1) (6.0)\n",
            "Requirement already satisfied: requests in /Users/jeyam/miniconda3/lib/python3.11/site-packages (from transformers->IndicTransTokenizer==0.1.1) (2.31.0)\n",
            "Requirement already satisfied: tokenizers<0.19,>=0.14 in /Users/jeyam/miniconda3/lib/python3.11/site-packages (from transformers->IndicTransTokenizer==0.1.1) (0.15.1)\n",
            "Requirement already satisfied: safetensors>=0.4.1 in /Users/jeyam/miniconda3/lib/python3.11/site-packages (from transformers->IndicTransTokenizer==0.1.1) (0.4.2)\n",
            "Requirement already satisfied: MarkupSafe>=2.0 in /Users/jeyam/miniconda3/lib/python3.11/site-packages (from jinja2->torch->IndicTransTokenizer==0.1.1) (2.1.1)\n",
            "Requirement already satisfied: python-dateutil>=2.8.2 in /Users/jeyam/miniconda3/lib/python3.11/site-packages (from pandas->indic-nlp-library-IT2@ git+https://github.com/VarunGumma/indic_nlp_library->IndicTransTokenizer==0.1.1) (2.8.2)\n",
            "Requirement already satisfied: pytz>=2020.1 in /Users/jeyam/miniconda3/lib/python3.11/site-packages (from pandas->indic-nlp-library-IT2@ git+https://github.com/VarunGumma/indic_nlp_library->IndicTransTokenizer==0.1.1) (2022.7)\n",
            "Requirement already satisfied: tzdata>=2022.1 in /Users/jeyam/miniconda3/lib/python3.11/site-packages (from pandas->indic-nlp-library-IT2@ git+https://github.com/VarunGumma/indic_nlp_library->IndicTransTokenizer==0.1.1) (2023.3)\n",
            "Requirement already satisfied: charset-normalizer<4,>=2 in /Users/jeyam/miniconda3/lib/python3.11/site-packages (from requests->transformers->IndicTransTokenizer==0.1.1) (2.0.4)\n",
            "Requirement already satisfied: idna<4,>=2.5 in /Users/jeyam/miniconda3/lib/python3.11/site-packages (from requests->transformers->IndicTransTokenizer==0.1.1) (3.4)\n",
            "Requirement already satisfied: urllib3<3,>=1.21.1 in /Users/jeyam/miniconda3/lib/python3.11/site-packages (from requests->transformers->IndicTransTokenizer==0.1.1) (1.26.16)\n",
            "Requirement already satisfied: certifi>=2017.4.17 in /Users/jeyam/miniconda3/lib/python3.11/site-packages (from requests->transformers->IndicTransTokenizer==0.1.1) (2023.7.22)\n",
            "Requirement already satisfied: sphinx>=1.2.0 in /Users/jeyam/miniconda3/lib/python3.11/site-packages (from sphinx-argparse->indic-nlp-library-IT2@ git+https://github.com/VarunGumma/indic_nlp_library->IndicTransTokenizer==0.1.1) (7.2.6)\n",
            "Requirement already satisfied: docutils<0.21 in /Users/jeyam/miniconda3/lib/python3.11/site-packages (from sphinx_rtd_theme->indic-nlp-library-IT2@ git+https://github.com/VarunGumma/indic_nlp_library->IndicTransTokenizer==0.1.1) (0.20.1)\n",
            "Requirement already satisfied: sphinxcontrib-jquery<5,>=4 in /Users/jeyam/miniconda3/lib/python3.11/site-packages (from sphinx_rtd_theme->indic-nlp-library-IT2@ git+https://github.com/VarunGumma/indic_nlp_library->IndicTransTokenizer==0.1.1) (4.1)\n",
            "Requirement already satisfied: mpmath>=0.19 in /Users/jeyam/miniconda3/lib/python3.11/site-packages (from sympy->torch->IndicTransTokenizer==0.1.1) (1.3.0)\n",
            "Requirement already satisfied: six>=1.5 in /Users/jeyam/miniconda3/lib/python3.11/site-packages (from python-dateutil>=2.8.2->pandas->indic-nlp-library-IT2@ git+https://github.com/VarunGumma/indic_nlp_library->IndicTransTokenizer==0.1.1) (1.16.0)\n",
            "Requirement already satisfied: sphinxcontrib-applehelp in /Users/jeyam/miniconda3/lib/python3.11/site-packages (from sphinx>=1.2.0->sphinx-argparse->indic-nlp-library-IT2@ git+https://github.com/VarunGumma/indic_nlp_library->IndicTransTokenizer==0.1.1) (1.0.8)\n",
            "Requirement already satisfied: sphinxcontrib-devhelp in /Users/jeyam/miniconda3/lib/python3.11/site-packages (from sphinx>=1.2.0->sphinx-argparse->indic-nlp-library-IT2@ git+https://github.com/VarunGumma/indic_nlp_library->IndicTransTokenizer==0.1.1) (1.0.6)\n",
            "Requirement already satisfied: sphinxcontrib-jsmath in /Users/jeyam/miniconda3/lib/python3.11/site-packages (from sphinx>=1.2.0->sphinx-argparse->indic-nlp-library-IT2@ git+https://github.com/VarunGumma/indic_nlp_library->IndicTransTokenizer==0.1.1) (1.0.1)\n",
            "Requirement already satisfied: sphinxcontrib-htmlhelp>=2.0.0 in /Users/jeyam/miniconda3/lib/python3.11/site-packages (from sphinx>=1.2.0->sphinx-argparse->indic-nlp-library-IT2@ git+https://github.com/VarunGumma/indic_nlp_library->IndicTransTokenizer==0.1.1) (2.0.5)\n",
            "Requirement already satisfied: sphinxcontrib-serializinghtml>=1.1.9 in /Users/jeyam/miniconda3/lib/python3.11/site-packages (from sphinx>=1.2.0->sphinx-argparse->indic-nlp-library-IT2@ git+https://github.com/VarunGumma/indic_nlp_library->IndicTransTokenizer==0.1.1) (1.1.10)\n",
            "Requirement already satisfied: sphinxcontrib-qthelp in /Users/jeyam/miniconda3/lib/python3.11/site-packages (from sphinx>=1.2.0->sphinx-argparse->indic-nlp-library-IT2@ git+https://github.com/VarunGumma/indic_nlp_library->IndicTransTokenizer==0.1.1) (1.0.7)\n",
            "Requirement already satisfied: Pygments>=2.14 in /Users/jeyam/miniconda3/lib/python3.11/site-packages (from sphinx>=1.2.0->sphinx-argparse->indic-nlp-library-IT2@ git+https://github.com/VarunGumma/indic_nlp_library->IndicTransTokenizer==0.1.1) (2.15.1)\n",
            "Requirement already satisfied: snowballstemmer>=2.0 in /Users/jeyam/miniconda3/lib/python3.11/site-packages (from sphinx>=1.2.0->sphinx-argparse->indic-nlp-library-IT2@ git+https://github.com/VarunGumma/indic_nlp_library->IndicTransTokenizer==0.1.1) (2.2.0)\n",
            "Requirement already satisfied: babel>=2.9 in /Users/jeyam/miniconda3/lib/python3.11/site-packages (from sphinx>=1.2.0->sphinx-argparse->indic-nlp-library-IT2@ git+https://github.com/VarunGumma/indic_nlp_library->IndicTransTokenizer==0.1.1) (2.11.0)\n",
            "Requirement already satisfied: alabaster<0.8,>=0.7 in /Users/jeyam/miniconda3/lib/python3.11/site-packages (from sphinx>=1.2.0->sphinx-argparse->indic-nlp-library-IT2@ git+https://github.com/VarunGumma/indic_nlp_library->IndicTransTokenizer==0.1.1) (0.7.16)\n",
            "Requirement already satisfied: imagesize>=1.3 in /Users/jeyam/miniconda3/lib/python3.11/site-packages (from sphinx>=1.2.0->sphinx-argparse->indic-nlp-library-IT2@ git+https://github.com/VarunGumma/indic_nlp_library->IndicTransTokenizer==0.1.1) (1.4.1)\n",
            "Installing collected packages: IndicTransTokenizer\n",
            "  Running setup.py develop for IndicTransTokenizer\n",
            "Successfully installed IndicTransTokenizer-0.1.1\n",
            "/Users/jeyam/Programming/Hackathons/Indic_Language_Support/Notebooks/IndicTrans2/huggingface_interface\n"
          ]
        }
      ],
      "source": [
        "!python3 -m pip install nltk sacremoses pandas regex mock transformers>=4.33.2 mosestokenizer\n",
        "!python3 -c \"import nltk; nltk.download('punkt')\"\n",
        "!python3 -m pip install bitsandbytes scipy accelerate datasets\n",
        "!python3 -m pip install sentencepiece\n",
        "!git clone https://github.com/VarunGumma/IndicTransTokenizer\n",
        "%cd IndicTransTokenizer\n",
        "!python3 -m pip install --editable ./\n",
        "%cd .."
      ]
    },
    {
      "cell_type": "markdown",
      "metadata": {},
      "source": [
        "### Initial setup is done, for further demo run Indictrans2/huggingface_inference/colab_inferece.ipynb from the import section"
      ]
    },
    {
      "cell_type": "markdown",
      "metadata": {},
      "source": [
        "### Initialising IndicLID"
      ]
    },
    {
      "cell_type": "code",
      "execution_count": 5,
      "metadata": {},
      "outputs": [
        {
          "name": "stdout",
          "output_type": "stream",
          "text": [
            "d:\\KIRESH_Projects\\Indic_Language_Support\\Notebooks\n"
          ]
        },
        {
          "name": "stderr",
          "output_type": "stream",
          "text": [
            "d:\\KIRESH_Projects\\Indic_Language_Support\\bfbvenv\\lib\\site-packages\\IPython\\core\\magics\\osm.py:417: UserWarning: using dhist requires you to install the `pickleshare` library.\n",
            "  self.shell.db['dhist'] = compress_dhist(dhist)[-100:]\n"
          ]
        }
      ],
      "source": [
        "cd ../.."
      ]
    },
    {
      "cell_type": "code",
      "execution_count": 1,
      "metadata": {},
      "outputs": [
        {
          "name": "stdout",
          "output_type": "stream",
          "text": [
            "Collecting fasttext\n",
            "  Downloading fasttext-0.9.2.tar.gz (68 kB)\n",
            "\u001b[2K     \u001b[90m━━━━━━━━━━━━━━━━━━━━━━━━━━━━━━━━━━━━━━━━\u001b[0m \u001b[32m68.8/68.8 kB\u001b[0m \u001b[31m1.2 MB/s\u001b[0m eta \u001b[36m0:00:00\u001b[0ma \u001b[36m0:00:01\u001b[0m\n",
            "\u001b[?25h  Preparing metadata (setup.py) ... \u001b[?25ldone\n",
            "\u001b[?25hCollecting pybind11>=2.2 (from fasttext)\n",
            "  Using cached pybind11-2.11.1-py3-none-any.whl.metadata (9.5 kB)\n",
            "Requirement already satisfied: setuptools>=0.7.0 in /Users/jeyam/miniconda3/lib/python3.11/site-packages (from fasttext) (68.2.2)\n",
            "Requirement already satisfied: numpy in /Users/jeyam/miniconda3/lib/python3.11/site-packages (from fasttext) (1.25.2)\n",
            "Using cached pybind11-2.11.1-py3-none-any.whl (227 kB)\n",
            "Building wheels for collected packages: fasttext\n",
            "  Building wheel for fasttext (setup.py) ... \u001b[?25ldone\n",
            "\u001b[?25h  Created wheel for fasttext: filename=fasttext-0.9.2-cp311-cp311-macosx_14_0_arm64.whl size=277013 sha256=2065dbbd6fd4d2f49cff13d14651daabb45dc64f9eb6593d99e7906feb67b5da\n",
            "  Stored in directory: /Users/jeyam/Library/Caches/pip/wheels/12/89/c9/c932d04c4dd65abe347bbb3e6f7668688753cbc585305ad8b7\n",
            "Successfully built fasttext\n",
            "Installing collected packages: pybind11, fasttext\n",
            "Successfully installed fasttext-0.9.2 pybind11-2.11.1\n",
            "Requirement already satisfied: transformers in /Users/jeyam/miniconda3/lib/python3.11/site-packages (4.37.2)\n",
            "Requirement already satisfied: filelock in /Users/jeyam/miniconda3/lib/python3.11/site-packages (from transformers) (3.12.4)\n",
            "Requirement already satisfied: huggingface-hub<1.0,>=0.19.3 in /Users/jeyam/miniconda3/lib/python3.11/site-packages (from transformers) (0.20.3)\n",
            "Requirement already satisfied: numpy>=1.17 in /Users/jeyam/miniconda3/lib/python3.11/site-packages (from transformers) (1.25.2)\n",
            "Requirement already satisfied: packaging>=20.0 in /Users/jeyam/miniconda3/lib/python3.11/site-packages (from transformers) (23.0)\n",
            "Requirement already satisfied: pyyaml>=5.1 in /Users/jeyam/miniconda3/lib/python3.11/site-packages (from transformers) (6.0)\n",
            "Requirement already satisfied: regex!=2019.12.17 in /Users/jeyam/miniconda3/lib/python3.11/site-packages (from transformers) (2023.12.25)\n",
            "Requirement already satisfied: requests in /Users/jeyam/miniconda3/lib/python3.11/site-packages (from transformers) (2.31.0)\n",
            "Requirement already satisfied: tokenizers<0.19,>=0.14 in /Users/jeyam/miniconda3/lib/python3.11/site-packages (from transformers) (0.15.1)\n",
            "Requirement already satisfied: safetensors>=0.4.1 in /Users/jeyam/miniconda3/lib/python3.11/site-packages (from transformers) (0.4.2)\n",
            "Requirement already satisfied: tqdm>=4.27 in /Users/jeyam/miniconda3/lib/python3.11/site-packages (from transformers) (4.65.0)\n",
            "Requirement already satisfied: fsspec>=2023.5.0 in /Users/jeyam/miniconda3/lib/python3.11/site-packages (from huggingface-hub<1.0,>=0.19.3->transformers) (2023.9.2)\n",
            "Requirement already satisfied: typing-extensions>=3.7.4.3 in /Users/jeyam/miniconda3/lib/python3.11/site-packages (from huggingface-hub<1.0,>=0.19.3->transformers) (4.7.1)\n",
            "Requirement already satisfied: charset-normalizer<4,>=2 in /Users/jeyam/miniconda3/lib/python3.11/site-packages (from requests->transformers) (2.0.4)\n",
            "Requirement already satisfied: idna<4,>=2.5 in /Users/jeyam/miniconda3/lib/python3.11/site-packages (from requests->transformers) (3.4)\n",
            "Requirement already satisfied: urllib3<3,>=1.21.1 in /Users/jeyam/miniconda3/lib/python3.11/site-packages (from requests->transformers) (1.26.16)\n",
            "Requirement already satisfied: certifi>=2017.4.17 in /Users/jeyam/miniconda3/lib/python3.11/site-packages (from requests->transformers) (2023.7.22)\n"
          ]
        }
      ],
      "source": [
        "!pip3 install fasttext\n",
        "!pip3 install transformers"
      ]
    },
    {
      "cell_type": "code",
      "execution_count": 2,
      "metadata": {},
      "outputs": [
        {
          "name": "stdout",
          "output_type": "stream",
          "text": [
            "Cloning into 'IndicLID'...\n",
            "remote: Enumerating objects: 337, done.\u001b[K\n",
            "remote: Counting objects: 100% (337/337), done.\u001b[K\n",
            "remote: Compressing objects: 100% (189/189), done.\u001b[K\n",
            "remote: Total 337 (delta 148), reused 282 (delta 115), pack-reused 0\u001b[K\n",
            "Receiving objects: 100% (337/337), 201.63 KiB | 1.80 MiB/s, done.\n",
            "Resolving deltas: 100% (148/148), done.\n"
          ]
        }
      ],
      "source": [
        "!git clone https://github.com/AI4Bharat/IndicLID.git"
      ]
    },
    {
      "cell_type": "code",
      "execution_count": 3,
      "metadata": {},
      "outputs": [
        {
          "name": "stdout",
          "output_type": "stream",
          "text": [
            "/Users/jeyam/Programming/Hackathons/Indic_Language_Support/Notebooks/IndicLID/Inference\n"
          ]
        }
      ],
      "source": [
        "%cd \"./IndicLID/Inference\""
      ]
    },
    {
      "cell_type": "code",
      "execution_count": 15,
      "metadata": {},
      "outputs": [
        {
          "name": "stdout",
          "output_type": "stream",
          "text": [
            "/Users/jeyam/Programming/Hackathons/Indic_Language_Support/Notebooks/IndicLID/Inference/models\n"
          ]
        }
      ],
      "source": [
        "%mkdir models\n",
        "# %cd \"./models\""
      ]
    },
    {
      "cell_type": "code",
      "execution_count": 17,
      "metadata": {},
      "outputs": [
        {
          "name": "stdout",
          "output_type": "stream",
          "text": [
            "/Users/jeyam/Programming/Hackathons/Indic_Language_Support/Notebooks/IndicLID/Inference/models\n"
          ]
        }
      ],
      "source": [
        "# https://github.com/AI4Bharat/IndicLID/releases/download/v1.0/indiclid-bert.zip\n",
        "# https://github.com/AI4Bharat/IndicLID/releases/download/v1.0/indiclid-ftn.zip\n",
        "# https://github.com/AI4Bharat/IndicLID/releases/download/v1.0/indiclid-ftr.zip\n",
        "\n",
        "# Download these above models and paste inside models folder"
      ]
    },
    {
      "cell_type": "code",
      "execution_count": 22,
      "metadata": {},
      "outputs": [
        {
          "name": "stderr",
          "output_type": "stream",
          "text": [
            "Warning : `load_model` does not return WordVectorModel or SupervisedModel any more, but a `FastText` object which is very similar.\n",
            "Warning : `load_model` does not return WordVectorModel or SupervisedModel any more, but a `FastText` object which is very similar.\n"
          ]
        }
      ],
      "source": [
        "# Check if the model is working correctly\n",
        "from ai4bharat.IndicLID import IndicLID\n",
        "\n",
        "IndicLID_model = IndicLID(input_threshold = 0.5, roman_lid_threshold = 0.6)"
      ]
    },
    {
      "cell_type": "markdown",
      "metadata": {},
      "source": [
        "## For OCR"
      ]
    },
    {
      "cell_type": "code",
      "execution_count": 2,
      "metadata": {},
      "outputs": [
        {
          "name": "stdout",
          "output_type": "stream",
          "text": [
            "Collecting easyocr\n",
            "  Downloading easyocr-1.7.1-py3-none-any.whl.metadata (11 kB)\n",
            "Requirement already satisfied: torch in /Users/jeyam/miniconda3/lib/python3.11/site-packages (from easyocr) (2.1.0)\n",
            "Requirement already satisfied: torchvision>=0.5 in /Users/jeyam/miniconda3/lib/python3.11/site-packages (from easyocr) (0.16.0)\n",
            "Collecting opencv-python-headless (from easyocr)\n",
            "  Downloading opencv_python_headless-4.9.0.80-cp37-abi3-macosx_11_0_arm64.whl.metadata (20 kB)\n",
            "Requirement already satisfied: scipy in /Users/jeyam/miniconda3/lib/python3.11/site-packages (from easyocr) (1.11.3)\n",
            "Requirement already satisfied: numpy in /Users/jeyam/miniconda3/lib/python3.11/site-packages (from easyocr) (1.25.2)\n",
            "Requirement already satisfied: Pillow in /Users/jeyam/miniconda3/lib/python3.11/site-packages (from easyocr) (10.0.1)\n",
            "Collecting scikit-image (from easyocr)\n",
            "  Downloading scikit_image-0.22.0-cp311-cp311-macosx_12_0_arm64.whl.metadata (13 kB)\n",
            "Collecting python-bidi (from easyocr)\n",
            "  Downloading python_bidi-0.4.2-py2.py3-none-any.whl (30 kB)\n",
            "Requirement already satisfied: PyYAML in /Users/jeyam/miniconda3/lib/python3.11/site-packages (from easyocr) (6.0)\n",
            "Collecting Shapely (from easyocr)\n",
            "  Downloading shapely-2.0.2-cp311-cp311-macosx_11_0_arm64.whl.metadata (7.0 kB)\n",
            "Collecting pyclipper (from easyocr)\n",
            "  Downloading pyclipper-1.3.0.post5-cp311-cp311-macosx_10_9_universal2.whl.metadata (9.0 kB)\n",
            "Collecting ninja (from easyocr)\n",
            "  Downloading ninja-1.11.1.1-py2.py3-none-macosx_10_9_universal2.macosx_10_9_x86_64.macosx_11_0_arm64.macosx_11_0_universal2.whl.metadata (5.3 kB)\n",
            "Requirement already satisfied: requests in /Users/jeyam/miniconda3/lib/python3.11/site-packages (from torchvision>=0.5->easyocr) (2.31.0)\n",
            "Requirement already satisfied: filelock in /Users/jeyam/miniconda3/lib/python3.11/site-packages (from torch->easyocr) (3.12.4)\n",
            "Requirement already satisfied: typing-extensions in /Users/jeyam/miniconda3/lib/python3.11/site-packages (from torch->easyocr) (4.7.1)\n",
            "Requirement already satisfied: sympy in /Users/jeyam/miniconda3/lib/python3.11/site-packages (from torch->easyocr) (1.12)\n",
            "Requirement already satisfied: networkx in /Users/jeyam/miniconda3/lib/python3.11/site-packages (from torch->easyocr) (3.1)\n",
            "Requirement already satisfied: jinja2 in /Users/jeyam/miniconda3/lib/python3.11/site-packages (from torch->easyocr) (3.1.2)\n",
            "Requirement already satisfied: fsspec in /Users/jeyam/miniconda3/lib/python3.11/site-packages (from torch->easyocr) (2023.9.2)\n",
            "Requirement already satisfied: six in /Users/jeyam/miniconda3/lib/python3.11/site-packages (from python-bidi->easyocr) (1.16.0)\n",
            "Collecting imageio>=2.27 (from scikit-image->easyocr)\n",
            "  Downloading imageio-2.33.1-py3-none-any.whl.metadata (4.9 kB)\n",
            "Collecting tifffile>=2022.8.12 (from scikit-image->easyocr)\n",
            "  Downloading tifffile-2024.1.30-py3-none-any.whl.metadata (31 kB)\n",
            "Requirement already satisfied: packaging>=21 in /Users/jeyam/miniconda3/lib/python3.11/site-packages (from scikit-image->easyocr) (23.0)\n",
            "Collecting lazy_loader>=0.3 (from scikit-image->easyocr)\n",
            "  Downloading lazy_loader-0.3-py3-none-any.whl.metadata (4.3 kB)\n",
            "Requirement already satisfied: MarkupSafe>=2.0 in /Users/jeyam/miniconda3/lib/python3.11/site-packages (from jinja2->torch->easyocr) (2.1.1)\n",
            "Requirement already satisfied: charset-normalizer<4,>=2 in /Users/jeyam/miniconda3/lib/python3.11/site-packages (from requests->torchvision>=0.5->easyocr) (2.0.4)\n",
            "Requirement already satisfied: idna<4,>=2.5 in /Users/jeyam/miniconda3/lib/python3.11/site-packages (from requests->torchvision>=0.5->easyocr) (3.4)\n",
            "Requirement already satisfied: urllib3<3,>=1.21.1 in /Users/jeyam/miniconda3/lib/python3.11/site-packages (from requests->torchvision>=0.5->easyocr) (1.26.16)\n",
            "Requirement already satisfied: certifi>=2017.4.17 in /Users/jeyam/miniconda3/lib/python3.11/site-packages (from requests->torchvision>=0.5->easyocr) (2023.7.22)\n",
            "Requirement already satisfied: mpmath>=0.19 in /Users/jeyam/miniconda3/lib/python3.11/site-packages (from sympy->torch->easyocr) (1.3.0)\n",
            "Downloading easyocr-1.7.1-py3-none-any.whl (2.9 MB)\n",
            "\u001b[2K   \u001b[90m━━━━━━━━━━━━━━━━━━━━━━━━━━━━━━━━━━━━━━━━\u001b[0m \u001b[32m2.9/2.9 MB\u001b[0m \u001b[31m4.6 MB/s\u001b[0m eta \u001b[36m0:00:00\u001b[0m00:01\u001b[0m00:01\u001b[0m\n",
            "\u001b[?25hDownloading ninja-1.11.1.1-py2.py3-none-macosx_10_9_universal2.macosx_10_9_x86_64.macosx_11_0_arm64.macosx_11_0_universal2.whl (270 kB)\n",
            "\u001b[2K   \u001b[90m━━━━━━━━━━━━━━━━━━━━━━━━━━━━━━━━━━━━━━━━\u001b[0m \u001b[32m270.6/270.6 kB\u001b[0m \u001b[31m5.5 MB/s\u001b[0m eta \u001b[36m0:00:00\u001b[0ma \u001b[36m0:00:01\u001b[0m\n",
            "\u001b[?25hDownloading opencv_python_headless-4.9.0.80-cp37-abi3-macosx_11_0_arm64.whl (35.4 MB)\n",
            "\u001b[2K   \u001b[90m━━━━━━━━━━━━━━━━━━━━━━━━━━━━━━━━━━━━━━━━\u001b[0m \u001b[32m35.4/35.4 MB\u001b[0m \u001b[31m4.1 MB/s\u001b[0m eta \u001b[36m0:00:00\u001b[0m00:01\u001b[0m00:01\u001b[0m0m\n",
            "\u001b[?25hDownloading pyclipper-1.3.0.post5-cp311-cp311-macosx_10_9_universal2.whl (279 kB)\n",
            "\u001b[2K   \u001b[90m━━━━━━━━━━━━━━━━━━━━━━━━━━━━━━━━━━━━━━━━\u001b[0m \u001b[32m279.2/279.2 kB\u001b[0m \u001b[31m1.5 MB/s\u001b[0m eta \u001b[36m0:00:00\u001b[0m00:01\u001b[0m00:01\u001b[0m\n",
            "\u001b[?25hDownloading scikit_image-0.22.0-cp311-cp311-macosx_12_0_arm64.whl (13.3 MB)\n",
            "\u001b[2K   \u001b[90m━━━━━━━━━━━━━━━━━━━━━━━━━━━━━━━━━━━━━━━━\u001b[0m \u001b[32m13.3/13.3 MB\u001b[0m \u001b[31m2.0 MB/s\u001b[0m eta \u001b[36m0:00:00\u001b[0m00:01\u001b[0m00:01\u001b[0m\n",
            "\u001b[?25hDownloading shapely-2.0.2-cp311-cp311-macosx_11_0_arm64.whl (1.3 MB)\n",
            "\u001b[2K   \u001b[90m━━━━━━━━━━━━━━━━━━━━━━━━━━━━━━━━━━━━━━━━\u001b[0m \u001b[32m1.3/1.3 MB\u001b[0m \u001b[31m6.9 MB/s\u001b[0m eta \u001b[36m0:00:00\u001b[0ma \u001b[36m0:00:01\u001b[0m\n",
            "\u001b[?25hDownloading imageio-2.33.1-py3-none-any.whl (313 kB)\n",
            "\u001b[2K   \u001b[90m━━━━━━━━━━━━━━━━━━━━━━━━━━━━━━━━━━━━━━━━\u001b[0m \u001b[32m313.3/313.3 kB\u001b[0m \u001b[31m4.1 MB/s\u001b[0m eta \u001b[36m0:00:00\u001b[0m00:01\u001b[0m00:01\u001b[0m\n",
            "\u001b[?25hDownloading lazy_loader-0.3-py3-none-any.whl (9.1 kB)\n",
            "Downloading tifffile-2024.1.30-py3-none-any.whl (224 kB)\n",
            "\u001b[2K   \u001b[90m━━━━━━━━━━━━━━━━━━━━━━━━━━━━━━━━━━━━━━━━\u001b[0m \u001b[32m224.1/224.1 kB\u001b[0m \u001b[31m5.9 MB/s\u001b[0m eta \u001b[36m0:00:00\u001b[0m\n",
            "\u001b[?25hInstalling collected packages: pyclipper, ninja, tifffile, Shapely, python-bidi, opencv-python-headless, lazy_loader, imageio, scikit-image, easyocr\n",
            "Successfully installed Shapely-2.0.2 easyocr-1.7.1 imageio-2.33.1 lazy_loader-0.3 ninja-1.11.1.1 opencv-python-headless-4.9.0.80 pyclipper-1.3.0.post5 python-bidi-0.4.2 scikit-image-0.22.0 tifffile-2024.1.30\n"
          ]
        }
      ],
      "source": [
        "!pip3 install easyocr"
      ]
    },
    {
      "cell_type": "markdown",
      "metadata": {},
      "source": [
        "## Library for Voice to Text"
      ]
    },
    {
      "cell_type": "code",
      "execution_count": 1,
      "metadata": {},
      "outputs": [
        {
          "name": "stdout",
          "output_type": "stream",
          "text": [
            "Collecting assemblyai\n",
            "  Downloading assemblyai-0.21.0-py3-none-any.whl.metadata (24 kB)\n",
            "Collecting httpx>=0.19.0 (from assemblyai)\n",
            "  Downloading httpx-0.26.0-py3-none-any.whl.metadata (7.6 kB)\n",
            "Collecting pydantic!=1.10.7,>=1.7.0 (from assemblyai)\n",
            "  Downloading pydantic-2.6.1-py3-none-any.whl.metadata (83 kB)\n",
            "\u001b[2K     \u001b[90m━━━━━━━━━━━━━━━━━━━━━━━━━━━━━━━━━━━━━━━\u001b[0m \u001b[32m83.5/83.5 kB\u001b[0m \u001b[31m958.3 kB/s\u001b[0m eta \u001b[36m0:00:00\u001b[0m0:01\u001b[0m:00:01\u001b[0m\n",
            "\u001b[?25hRequirement already satisfied: typing-extensions>=3.7 in /Users/jeyam/miniconda3/lib/python3.11/site-packages (from assemblyai) (4.7.1)\n",
            "Collecting websockets>=11.0 (from assemblyai)\n",
            "  Downloading websockets-12.0-cp311-cp311-macosx_11_0_arm64.whl.metadata (6.6 kB)\n",
            "Requirement already satisfied: anyio in /Users/jeyam/miniconda3/lib/python3.11/site-packages (from httpx>=0.19.0->assemblyai) (3.5.0)\n",
            "Requirement already satisfied: certifi in /Users/jeyam/miniconda3/lib/python3.11/site-packages (from httpx>=0.19.0->assemblyai) (2023.7.22)\n",
            "Collecting httpcore==1.* (from httpx>=0.19.0->assemblyai)\n",
            "  Downloading httpcore-1.0.2-py3-none-any.whl.metadata (20 kB)\n",
            "Requirement already satisfied: idna in /Users/jeyam/miniconda3/lib/python3.11/site-packages (from httpx>=0.19.0->assemblyai) (3.4)\n",
            "Requirement already satisfied: sniffio in /Users/jeyam/miniconda3/lib/python3.11/site-packages (from httpx>=0.19.0->assemblyai) (1.2.0)\n",
            "Collecting h11<0.15,>=0.13 (from httpcore==1.*->httpx>=0.19.0->assemblyai)\n",
            "  Downloading h11-0.14.0-py3-none-any.whl (58 kB)\n",
            "\u001b[2K     \u001b[90m━━━━━━━━━━━━━━━━━━━━━━━━━━━━━━━━━━━━━━━\u001b[0m \u001b[32m58.3/58.3 kB\u001b[0m \u001b[31m313.2 kB/s\u001b[0m eta \u001b[36m0:00:00\u001b[0ma \u001b[36m0:00:01\u001b[0m\n",
            "\u001b[?25hCollecting annotated-types>=0.4.0 (from pydantic!=1.10.7,>=1.7.0->assemblyai)\n",
            "  Downloading annotated_types-0.6.0-py3-none-any.whl.metadata (12 kB)\n",
            "Collecting pydantic-core==2.16.2 (from pydantic!=1.10.7,>=1.7.0->assemblyai)\n",
            "  Downloading pydantic_core-2.16.2-cp311-cp311-macosx_11_0_arm64.whl.metadata (6.5 kB)\n",
            "Downloading assemblyai-0.21.0-py3-none-any.whl (65 kB)\n",
            "\u001b[2K   \u001b[90m━━━━━━━━━━━━━━━━━━━━━━━━━━━━━━━━━━━━━━━━\u001b[0m \u001b[32m65.2/65.2 kB\u001b[0m \u001b[31m756.2 kB/s\u001b[0m eta \u001b[36m0:00:00\u001b[0ma \u001b[36m0:00:01\u001b[0m\n",
            "\u001b[?25hDownloading httpx-0.26.0-py3-none-any.whl (75 kB)\n",
            "\u001b[2K   \u001b[90m━━━━━━━━━━━━━━━━━━━━━━━━━━━━━━━━━━━━━━━━\u001b[0m \u001b[32m75.9/75.9 kB\u001b[0m \u001b[31m568.0 kB/s\u001b[0m eta \u001b[36m0:00:00\u001b[0ma \u001b[36m0:00:01\u001b[0m\n",
            "\u001b[?25hDownloading httpcore-1.0.2-py3-none-any.whl (76 kB)\n",
            "\u001b[2K   \u001b[90m━━━━━━━━━━━━━━━━━━━━━━━━━━━━━━━━━━━━━━━━\u001b[0m \u001b[32m76.9/76.9 kB\u001b[0m \u001b[31m631.9 kB/s\u001b[0m eta \u001b[36m0:00:00\u001b[0ma \u001b[36m0:00:01\u001b[0m\n",
            "\u001b[?25hDownloading pydantic-2.6.1-py3-none-any.whl (394 kB)\n",
            "\u001b[2K   \u001b[90m━━━━━━━━━━━━━━━━━━━━━━━━━━━━━━━━━━━━━━━\u001b[0m \u001b[32m394.8/394.8 kB\u001b[0m \u001b[31m670.5 kB/s\u001b[0m eta \u001b[36m0:00:00\u001b[0ma \u001b[36m0:00:01\u001b[0m\n",
            "\u001b[?25hDownloading pydantic_core-2.16.2-cp311-cp311-macosx_11_0_arm64.whl (1.7 MB)\n",
            "\u001b[2K   \u001b[90m━━━━━━━━━━━━━━━━━━━━━━━━━━━━━━━━━━━━━━━━\u001b[0m \u001b[32m1.7/1.7 MB\u001b[0m \u001b[31m2.4 MB/s\u001b[0m eta \u001b[36m0:00:00\u001b[0ma \u001b[36m0:00:01\u001b[0m\n",
            "\u001b[?25hDownloading websockets-12.0-cp311-cp311-macosx_11_0_arm64.whl (121 kB)\n",
            "\u001b[2K   \u001b[90m━━━━━━━━━━━━━━━━━━━━━━━━━━━━━━━━━━━━━━━━\u001b[0m \u001b[32m121.3/121.3 kB\u001b[0m \u001b[31m3.5 MB/s\u001b[0m eta \u001b[36m0:00:00\u001b[0m\n",
            "\u001b[?25hDownloading annotated_types-0.6.0-py3-none-any.whl (12 kB)\n",
            "Installing collected packages: websockets, pydantic-core, h11, annotated-types, pydantic, httpcore, httpx, assemblyai\n",
            "Successfully installed annotated-types-0.6.0 assemblyai-0.21.0 h11-0.14.0 httpcore-1.0.2 httpx-0.26.0 pydantic-2.6.1 pydantic-core-2.16.2 websockets-12.0\n"
          ]
        }
      ],
      "source": [
        "!pip3 install assemblyai"
      ]
    },
    {
      "cell_type": "code",
      "execution_count": null,
      "metadata": {},
      "outputs": [],
      "source": []
    }
  ],
  "metadata": {
    "accelerator": "GPU",
    "colab": {
      "gpuType": "T4",
      "provenance": [],
      "toc_visible": true
    },
    "kernelspec": {
      "display_name": "Python 3",
      "name": "python3"
    },
    "language_info": {
      "codemirror_mode": {
        "name": "ipython",
        "version": 3
      },
      "file_extension": ".py",
      "mimetype": "text/x-python",
      "name": "python",
      "nbconvert_exporter": "python",
      "pygments_lexer": "ipython3",
      "version": "0.0.0"
    }
  },
  "nbformat": 4,
  "nbformat_minor": 0
}
