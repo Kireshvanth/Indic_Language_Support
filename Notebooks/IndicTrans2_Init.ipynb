{
  "cells": [
    {
      "cell_type": "markdown",
      "metadata": {
        "id": "8Aa-nRCzPVdF"
      },
      "source": [
        "# IndicTrans2 HF Inference\n",
        "\n",
        "We provide an example notebook on how to use our IndicTrans2 models which were originally trained with the fairseq to HuggingFace transformers for inference purpose.\n"
      ]
    },
    {
      "cell_type": "markdown",
      "metadata": {
        "id": "Cfsv02IeP2It"
      },
      "source": [
        "## Setup\n",
        "\n",
        "Please run the cells below to install the necessary dependencies.\n"
      ]
    },
    {
      "cell_type": "code",
      "execution_count": 1,
      "metadata": {
        "id": "qKcYlUZYGLrt"
      },
      "outputs": [
        {
          "name": "stdout",
          "output_type": "stream",
          "text": [
            "Cloning into 'IndicTrans2'...\n",
            "remote: Enumerating objects: 634, done.\u001b[K\n",
            "remote: Counting objects: 100% (117/117), done.\u001b[K\n",
            "remote: Compressing objects: 100% (49/49), done.\u001b[K\n",
            "remote: Total 634 (delta 89), reused 75 (delta 68), pack-reused 517\u001b[K\n",
            "Receiving objects: 100% (634/634), 4.09 MiB | 8.47 MiB/s, done.\n",
            "Resolving deltas: 100% (396/396), done.\n"
          ]
        }
      ],
      "source": [
        "\n",
        "!git clone https://github.com/AI4Bharat/IndicTrans2.git"
      ]
    },
    {
      "cell_type": "code",
      "execution_count": 2,
      "metadata": {
        "id": "U3vs7FkIGSxK"
      },
      "outputs": [
        {
          "name": "stdout",
          "output_type": "stream",
          "text": [
            "/Users/jeyam/Programming/Hackathons/Indic_Language_Support/Notebooks/IndicTrans2/huggingface_interface\n"
          ]
        }
      ],
      "source": [
        "\n",
        "%cd IndicTrans2/huggingface_interface"
      ]
    },
    {
      "cell_type": "code",
      "execution_count": 3,
      "metadata": {
        "id": "ddkRAXQ2Git0"
      },
      "outputs": [
        {
          "name": "stdout",
          "output_type": "stream",
          "text": [
            "zsh:1: 4.33.2 not found\n"
          ]
        },
        {
          "name": "stdout",
          "output_type": "stream",
          "text": [
            "Traceback (most recent call last):\n",
            "  File \"<string>\", line 1, in <module>\n",
            "ModuleNotFoundError: No module named 'nltk'\n",
            "Requirement already satisfied: bitsandbytes in /Users/jeyam/miniconda3/lib/python3.11/site-packages (0.42.0)\n",
            "Requirement already satisfied: scipy in /Users/jeyam/miniconda3/lib/python3.11/site-packages (1.11.3)\n",
            "Requirement already satisfied: accelerate in /Users/jeyam/miniconda3/lib/python3.11/site-packages (0.26.1)\n",
            "Requirement already satisfied: datasets in /Users/jeyam/miniconda3/lib/python3.11/site-packages (2.16.1)\n",
            "Requirement already satisfied: numpy<1.28.0,>=1.21.6 in /Users/jeyam/miniconda3/lib/python3.11/site-packages (from scipy) (1.25.2)\n",
            "Requirement already satisfied: packaging>=20.0 in /Users/jeyam/miniconda3/lib/python3.11/site-packages (from accelerate) (23.0)\n",
            "Requirement already satisfied: psutil in /Users/jeyam/miniconda3/lib/python3.11/site-packages (from accelerate) (5.9.0)\n",
            "Requirement already satisfied: pyyaml in /Users/jeyam/miniconda3/lib/python3.11/site-packages (from accelerate) (6.0)\n",
            "Requirement already satisfied: torch>=1.10.0 in /Users/jeyam/miniconda3/lib/python3.11/site-packages (from accelerate) (2.1.0)\n",
            "Requirement already satisfied: huggingface-hub in /Users/jeyam/miniconda3/lib/python3.11/site-packages (from accelerate) (0.20.3)\n",
            "Requirement already satisfied: safetensors>=0.3.1 in /Users/jeyam/miniconda3/lib/python3.11/site-packages (from accelerate) (0.4.2)\n",
            "Requirement already satisfied: filelock in /Users/jeyam/miniconda3/lib/python3.11/site-packages (from datasets) (3.12.4)\n",
            "Requirement already satisfied: pyarrow>=8.0.0 in /Users/jeyam/miniconda3/lib/python3.11/site-packages (from datasets) (15.0.0)\n",
            "Requirement already satisfied: pyarrow-hotfix in /Users/jeyam/miniconda3/lib/python3.11/site-packages (from datasets) (0.6)\n",
            "Requirement already satisfied: dill<0.3.8,>=0.3.0 in /Users/jeyam/miniconda3/lib/python3.11/site-packages (from datasets) (0.3.7)\n",
            "Requirement already satisfied: pandas in /Users/jeyam/miniconda3/lib/python3.11/site-packages (from datasets) (2.1.1)\n",
            "Requirement already satisfied: requests>=2.19.0 in /Users/jeyam/miniconda3/lib/python3.11/site-packages (from datasets) (2.31.0)\n",
            "Requirement already satisfied: tqdm>=4.62.1 in /Users/jeyam/miniconda3/lib/python3.11/site-packages (from datasets) (4.65.0)\n",
            "Requirement already satisfied: xxhash in /Users/jeyam/miniconda3/lib/python3.11/site-packages (from datasets) (3.4.1)\n",
            "Requirement already satisfied: multiprocess in /Users/jeyam/miniconda3/lib/python3.11/site-packages (from datasets) (0.70.15)\n",
            "Requirement already satisfied: fsspec<=2023.10.0,>=2023.1.0 in /Users/jeyam/miniconda3/lib/python3.11/site-packages (from fsspec[http]<=2023.10.0,>=2023.1.0->datasets) (2023.9.2)\n",
            "Requirement already satisfied: aiohttp in /Users/jeyam/miniconda3/lib/python3.11/site-packages (from datasets) (3.9.3)\n",
            "Requirement already satisfied: aiosignal>=1.1.2 in /Users/jeyam/miniconda3/lib/python3.11/site-packages (from aiohttp->datasets) (1.3.1)\n",
            "Requirement already satisfied: attrs>=17.3.0 in /Users/jeyam/miniconda3/lib/python3.11/site-packages (from aiohttp->datasets) (22.1.0)\n",
            "Requirement already satisfied: frozenlist>=1.1.1 in /Users/jeyam/miniconda3/lib/python3.11/site-packages (from aiohttp->datasets) (1.4.1)\n",
            "Requirement already satisfied: multidict<7.0,>=4.5 in /Users/jeyam/miniconda3/lib/python3.11/site-packages (from aiohttp->datasets) (6.0.5)\n",
            "Requirement already satisfied: yarl<2.0,>=1.0 in /Users/jeyam/miniconda3/lib/python3.11/site-packages (from aiohttp->datasets) (1.9.4)\n",
            "Requirement already satisfied: typing-extensions>=3.7.4.3 in /Users/jeyam/miniconda3/lib/python3.11/site-packages (from huggingface-hub->accelerate) (4.7.1)\n",
            "Requirement already satisfied: charset-normalizer<4,>=2 in /Users/jeyam/miniconda3/lib/python3.11/site-packages (from requests>=2.19.0->datasets) (2.0.4)\n",
            "Requirement already satisfied: idna<4,>=2.5 in /Users/jeyam/miniconda3/lib/python3.11/site-packages (from requests>=2.19.0->datasets) (3.4)\n",
            "Requirement already satisfied: urllib3<3,>=1.21.1 in /Users/jeyam/miniconda3/lib/python3.11/site-packages (from requests>=2.19.0->datasets) (1.26.16)\n",
            "Requirement already satisfied: certifi>=2017.4.17 in /Users/jeyam/miniconda3/lib/python3.11/site-packages (from requests>=2.19.0->datasets) (2023.7.22)\n",
            "Requirement already satisfied: sympy in /Users/jeyam/miniconda3/lib/python3.11/site-packages (from torch>=1.10.0->accelerate) (1.12)\n",
            "Requirement already satisfied: networkx in /Users/jeyam/miniconda3/lib/python3.11/site-packages (from torch>=1.10.0->accelerate) (3.1)\n",
            "Requirement already satisfied: jinja2 in /Users/jeyam/miniconda3/lib/python3.11/site-packages (from torch>=1.10.0->accelerate) (3.1.2)\n",
            "Requirement already satisfied: python-dateutil>=2.8.2 in /Users/jeyam/miniconda3/lib/python3.11/site-packages (from pandas->datasets) (2.8.2)\n",
            "Requirement already satisfied: pytz>=2020.1 in /Users/jeyam/miniconda3/lib/python3.11/site-packages (from pandas->datasets) (2022.7)\n",
            "Requirement already satisfied: tzdata>=2022.1 in /Users/jeyam/miniconda3/lib/python3.11/site-packages (from pandas->datasets) (2023.3)\n",
            "Requirement already satisfied: six>=1.5 in /Users/jeyam/miniconda3/lib/python3.11/site-packages (from python-dateutil>=2.8.2->pandas->datasets) (1.16.0)\n",
            "Requirement already satisfied: MarkupSafe>=2.0 in /Users/jeyam/miniconda3/lib/python3.11/site-packages (from jinja2->torch>=1.10.0->accelerate) (2.1.1)\n",
            "Requirement already satisfied: mpmath>=0.19 in /Users/jeyam/miniconda3/lib/python3.11/site-packages (from sympy->torch>=1.10.0->accelerate) (1.3.0)\n",
            "Requirement already satisfied: sentencepiece in /Users/jeyam/miniconda3/lib/python3.11/site-packages (0.1.99)\n",
            "Cloning into 'IndicTransTokenizer'...\n",
            "remote: Enumerating objects: 103, done.\u001b[K\n",
            "remote: Counting objects: 100% (103/103), done.\u001b[K\n",
            "remote: Compressing objects: 100% (68/68), done.\u001b[K\n",
            "remote: Total 103 (delta 45), reused 81 (delta 26), pack-reused 0\u001b[K\n",
            "Receiving objects: 100% (103/103), 3.85 MiB | 4.51 MiB/s, done.\n",
            "Resolving deltas: 100% (45/45), done.\n",
            "/Users/jeyam/Programming/Hackathons/Indic_Language_Support/Notebooks/IndicTrans2/huggingface_interface/IndicTransTokenizer\n",
            "Obtaining file:///Users/jeyam/Programming/Hackathons/Indic_Language_Support/Notebooks/IndicTrans2/huggingface_interface/IndicTransTokenizer\n",
            "  Preparing metadata (setup.py) ... \u001b[?25ldone\n",
            "\u001b[?25hCollecting indic-nlp-library-IT2@ git+https://github.com/VarunGumma/indic_nlp_library (from IndicTransTokenizer==0.1.1)\n",
            "  Cloning https://github.com/VarunGumma/indic_nlp_library to /private/var/folders/m4/817lmlzx26df805ztf8tvs7r0000gn/T/pip-install-i0l4hiys/indic-nlp-library-it2_5ab8b50318a64d75af4ac586864ab372\n",
            "  Running command git clone --filter=blob:none --quiet https://github.com/VarunGumma/indic_nlp_library /private/var/folders/m4/817lmlzx26df805ztf8tvs7r0000gn/T/pip-install-i0l4hiys/indic-nlp-library-it2_5ab8b50318a64d75af4ac586864ab372\n",
            "  Resolved https://github.com/VarunGumma/indic_nlp_library to commit 18e85551b0b331a65d11acf869afd4cfa615bc4c\n",
            "  Preparing metadata (setup.py) ... \u001b[?25ldone\n",
            "\u001b[?25hRequirement already satisfied: setuptools==68.2.2 in /Users/jeyam/miniconda3/lib/python3.11/site-packages (from IndicTransTokenizer==0.1.1) (68.2.2)\n",
            "Requirement already satisfied: torch in /Users/jeyam/miniconda3/lib/python3.11/site-packages (from IndicTransTokenizer==0.1.1) (2.1.0)\n",
            "Requirement already satisfied: sacremoses in /Users/jeyam/miniconda3/lib/python3.11/site-packages (from IndicTransTokenizer==0.1.1) (0.1.1)\n",
            "Requirement already satisfied: sentencepiece in /Users/jeyam/miniconda3/lib/python3.11/site-packages (from IndicTransTokenizer==0.1.1) (0.1.99)\n",
            "Requirement already satisfied: transformers in /Users/jeyam/miniconda3/lib/python3.11/site-packages (from IndicTransTokenizer==0.1.1) (4.37.2)\n",
            "Requirement already satisfied: sphinx-argparse in /Users/jeyam/miniconda3/lib/python3.11/site-packages (from indic-nlp-library-IT2@ git+https://github.com/VarunGumma/indic_nlp_library->IndicTransTokenizer==0.1.1) (0.4.0)\n",
            "Requirement already satisfied: sphinx_rtd_theme in /Users/jeyam/miniconda3/lib/python3.11/site-packages (from indic-nlp-library-IT2@ git+https://github.com/VarunGumma/indic_nlp_library->IndicTransTokenizer==0.1.1) (2.0.0)\n",
            "Requirement already satisfied: morfessor in /Users/jeyam/miniconda3/lib/python3.11/site-packages (from indic-nlp-library-IT2@ git+https://github.com/VarunGumma/indic_nlp_library->IndicTransTokenizer==0.1.1) (2.0.6)\n",
            "Requirement already satisfied: pandas in /Users/jeyam/miniconda3/lib/python3.11/site-packages (from indic-nlp-library-IT2@ git+https://github.com/VarunGumma/indic_nlp_library->IndicTransTokenizer==0.1.1) (2.1.1)\n",
            "Requirement already satisfied: numpy in /Users/jeyam/miniconda3/lib/python3.11/site-packages (from indic-nlp-library-IT2@ git+https://github.com/VarunGumma/indic_nlp_library->IndicTransTokenizer==0.1.1) (1.25.2)\n",
            "Requirement already satisfied: regex in /Users/jeyam/miniconda3/lib/python3.11/site-packages (from sacremoses->IndicTransTokenizer==0.1.1) (2023.12.25)\n",
            "Requirement already satisfied: click in /Users/jeyam/miniconda3/lib/python3.11/site-packages (from sacremoses->IndicTransTokenizer==0.1.1) (8.1.7)\n",
            "Requirement already satisfied: joblib in /Users/jeyam/miniconda3/lib/python3.11/site-packages (from sacremoses->IndicTransTokenizer==0.1.1) (1.3.2)\n",
            "Requirement already satisfied: tqdm in /Users/jeyam/miniconda3/lib/python3.11/site-packages (from sacremoses->IndicTransTokenizer==0.1.1) (4.65.0)\n",
            "Requirement already satisfied: filelock in /Users/jeyam/miniconda3/lib/python3.11/site-packages (from torch->IndicTransTokenizer==0.1.1) (3.12.4)\n",
            "Requirement already satisfied: typing-extensions in /Users/jeyam/miniconda3/lib/python3.11/site-packages (from torch->IndicTransTokenizer==0.1.1) (4.7.1)\n",
            "Requirement already satisfied: sympy in /Users/jeyam/miniconda3/lib/python3.11/site-packages (from torch->IndicTransTokenizer==0.1.1) (1.12)\n",
            "Requirement already satisfied: networkx in /Users/jeyam/miniconda3/lib/python3.11/site-packages (from torch->IndicTransTokenizer==0.1.1) (3.1)\n",
            "Requirement already satisfied: jinja2 in /Users/jeyam/miniconda3/lib/python3.11/site-packages (from torch->IndicTransTokenizer==0.1.1) (3.1.2)\n",
            "Requirement already satisfied: fsspec in /Users/jeyam/miniconda3/lib/python3.11/site-packages (from torch->IndicTransTokenizer==0.1.1) (2023.9.2)\n",
            "Requirement already satisfied: huggingface-hub<1.0,>=0.19.3 in /Users/jeyam/miniconda3/lib/python3.11/site-packages (from transformers->IndicTransTokenizer==0.1.1) (0.20.3)\n",
            "Requirement already satisfied: packaging>=20.0 in /Users/jeyam/miniconda3/lib/python3.11/site-packages (from transformers->IndicTransTokenizer==0.1.1) (23.0)\n",
            "Requirement already satisfied: pyyaml>=5.1 in /Users/jeyam/miniconda3/lib/python3.11/site-packages (from transformers->IndicTransTokenizer==0.1.1) (6.0)\n",
            "Requirement already satisfied: requests in /Users/jeyam/miniconda3/lib/python3.11/site-packages (from transformers->IndicTransTokenizer==0.1.1) (2.31.0)\n",
            "Requirement already satisfied: tokenizers<0.19,>=0.14 in /Users/jeyam/miniconda3/lib/python3.11/site-packages (from transformers->IndicTransTokenizer==0.1.1) (0.15.1)\n",
            "Requirement already satisfied: safetensors>=0.4.1 in /Users/jeyam/miniconda3/lib/python3.11/site-packages (from transformers->IndicTransTokenizer==0.1.1) (0.4.2)\n",
            "Requirement already satisfied: MarkupSafe>=2.0 in /Users/jeyam/miniconda3/lib/python3.11/site-packages (from jinja2->torch->IndicTransTokenizer==0.1.1) (2.1.1)\n",
            "Requirement already satisfied: python-dateutil>=2.8.2 in /Users/jeyam/miniconda3/lib/python3.11/site-packages (from pandas->indic-nlp-library-IT2@ git+https://github.com/VarunGumma/indic_nlp_library->IndicTransTokenizer==0.1.1) (2.8.2)\n",
            "Requirement already satisfied: pytz>=2020.1 in /Users/jeyam/miniconda3/lib/python3.11/site-packages (from pandas->indic-nlp-library-IT2@ git+https://github.com/VarunGumma/indic_nlp_library->IndicTransTokenizer==0.1.1) (2022.7)\n",
            "Requirement already satisfied: tzdata>=2022.1 in /Users/jeyam/miniconda3/lib/python3.11/site-packages (from pandas->indic-nlp-library-IT2@ git+https://github.com/VarunGumma/indic_nlp_library->IndicTransTokenizer==0.1.1) (2023.3)\n",
            "Requirement already satisfied: charset-normalizer<4,>=2 in /Users/jeyam/miniconda3/lib/python3.11/site-packages (from requests->transformers->IndicTransTokenizer==0.1.1) (2.0.4)\n",
            "Requirement already satisfied: idna<4,>=2.5 in /Users/jeyam/miniconda3/lib/python3.11/site-packages (from requests->transformers->IndicTransTokenizer==0.1.1) (3.4)\n",
            "Requirement already satisfied: urllib3<3,>=1.21.1 in /Users/jeyam/miniconda3/lib/python3.11/site-packages (from requests->transformers->IndicTransTokenizer==0.1.1) (1.26.16)\n",
            "Requirement already satisfied: certifi>=2017.4.17 in /Users/jeyam/miniconda3/lib/python3.11/site-packages (from requests->transformers->IndicTransTokenizer==0.1.1) (2023.7.22)\n",
            "Requirement already satisfied: sphinx>=1.2.0 in /Users/jeyam/miniconda3/lib/python3.11/site-packages (from sphinx-argparse->indic-nlp-library-IT2@ git+https://github.com/VarunGumma/indic_nlp_library->IndicTransTokenizer==0.1.1) (7.2.6)\n",
            "Requirement already satisfied: docutils<0.21 in /Users/jeyam/miniconda3/lib/python3.11/site-packages (from sphinx_rtd_theme->indic-nlp-library-IT2@ git+https://github.com/VarunGumma/indic_nlp_library->IndicTransTokenizer==0.1.1) (0.20.1)\n",
            "Requirement already satisfied: sphinxcontrib-jquery<5,>=4 in /Users/jeyam/miniconda3/lib/python3.11/site-packages (from sphinx_rtd_theme->indic-nlp-library-IT2@ git+https://github.com/VarunGumma/indic_nlp_library->IndicTransTokenizer==0.1.1) (4.1)\n",
            "Requirement already satisfied: mpmath>=0.19 in /Users/jeyam/miniconda3/lib/python3.11/site-packages (from sympy->torch->IndicTransTokenizer==0.1.1) (1.3.0)\n",
            "Requirement already satisfied: six>=1.5 in /Users/jeyam/miniconda3/lib/python3.11/site-packages (from python-dateutil>=2.8.2->pandas->indic-nlp-library-IT2@ git+https://github.com/VarunGumma/indic_nlp_library->IndicTransTokenizer==0.1.1) (1.16.0)\n",
            "Requirement already satisfied: sphinxcontrib-applehelp in /Users/jeyam/miniconda3/lib/python3.11/site-packages (from sphinx>=1.2.0->sphinx-argparse->indic-nlp-library-IT2@ git+https://github.com/VarunGumma/indic_nlp_library->IndicTransTokenizer==0.1.1) (1.0.8)\n",
            "Requirement already satisfied: sphinxcontrib-devhelp in /Users/jeyam/miniconda3/lib/python3.11/site-packages (from sphinx>=1.2.0->sphinx-argparse->indic-nlp-library-IT2@ git+https://github.com/VarunGumma/indic_nlp_library->IndicTransTokenizer==0.1.1) (1.0.6)\n",
            "Requirement already satisfied: sphinxcontrib-jsmath in /Users/jeyam/miniconda3/lib/python3.11/site-packages (from sphinx>=1.2.0->sphinx-argparse->indic-nlp-library-IT2@ git+https://github.com/VarunGumma/indic_nlp_library->IndicTransTokenizer==0.1.1) (1.0.1)\n",
            "Requirement already satisfied: sphinxcontrib-htmlhelp>=2.0.0 in /Users/jeyam/miniconda3/lib/python3.11/site-packages (from sphinx>=1.2.0->sphinx-argparse->indic-nlp-library-IT2@ git+https://github.com/VarunGumma/indic_nlp_library->IndicTransTokenizer==0.1.1) (2.0.5)\n",
            "Requirement already satisfied: sphinxcontrib-serializinghtml>=1.1.9 in /Users/jeyam/miniconda3/lib/python3.11/site-packages (from sphinx>=1.2.0->sphinx-argparse->indic-nlp-library-IT2@ git+https://github.com/VarunGumma/indic_nlp_library->IndicTransTokenizer==0.1.1) (1.1.10)\n",
            "Requirement already satisfied: sphinxcontrib-qthelp in /Users/jeyam/miniconda3/lib/python3.11/site-packages (from sphinx>=1.2.0->sphinx-argparse->indic-nlp-library-IT2@ git+https://github.com/VarunGumma/indic_nlp_library->IndicTransTokenizer==0.1.1) (1.0.7)\n",
            "Requirement already satisfied: Pygments>=2.14 in /Users/jeyam/miniconda3/lib/python3.11/site-packages (from sphinx>=1.2.0->sphinx-argparse->indic-nlp-library-IT2@ git+https://github.com/VarunGumma/indic_nlp_library->IndicTransTokenizer==0.1.1) (2.15.1)\n",
            "Requirement already satisfied: snowballstemmer>=2.0 in /Users/jeyam/miniconda3/lib/python3.11/site-packages (from sphinx>=1.2.0->sphinx-argparse->indic-nlp-library-IT2@ git+https://github.com/VarunGumma/indic_nlp_library->IndicTransTokenizer==0.1.1) (2.2.0)\n",
            "Requirement already satisfied: babel>=2.9 in /Users/jeyam/miniconda3/lib/python3.11/site-packages (from sphinx>=1.2.0->sphinx-argparse->indic-nlp-library-IT2@ git+https://github.com/VarunGumma/indic_nlp_library->IndicTransTokenizer==0.1.1) (2.11.0)\n",
            "Requirement already satisfied: alabaster<0.8,>=0.7 in /Users/jeyam/miniconda3/lib/python3.11/site-packages (from sphinx>=1.2.0->sphinx-argparse->indic-nlp-library-IT2@ git+https://github.com/VarunGumma/indic_nlp_library->IndicTransTokenizer==0.1.1) (0.7.16)\n",
            "Requirement already satisfied: imagesize>=1.3 in /Users/jeyam/miniconda3/lib/python3.11/site-packages (from sphinx>=1.2.0->sphinx-argparse->indic-nlp-library-IT2@ git+https://github.com/VarunGumma/indic_nlp_library->IndicTransTokenizer==0.1.1) (1.4.1)\n",
            "Installing collected packages: IndicTransTokenizer\n",
            "  Running setup.py develop for IndicTransTokenizer\n",
            "Successfully installed IndicTransTokenizer-0.1.1\n",
            "/Users/jeyam/Programming/Hackathons/Indic_Language_Support/Notebooks/IndicTrans2/huggingface_interface\n"
          ]
        }
      ],
      "source": [
        "!python3 -m pip install nltk sacremoses pandas regex mock transformers>=4.33.2 mosestokenizer\n",
        "!python3 -c \"import nltk; nltk.download('punkt')\"\n",
        "!python3 -m pip install bitsandbytes scipy accelerate datasets\n",
        "!python3 -m pip install sentencepiece\n",
        "!git clone https://github.com/VarunGumma/IndicTransTokenizer\n",
        "%cd IndicTransTokenizer\n",
        "!python3 -m pip install --editable ./\n",
        "%cd .."
      ]
    },
    {
      "cell_type": "markdown",
      "metadata": {},
      "source": [
        "### Initial setup is done, for further demo run Indictrans2/huggingface_inference/colab_inferece.ipynb from the import section"
      ]
    },
    {
      "cell_type": "markdown",
      "metadata": {},
      "source": [
        "### Initialising IndicLID"
      ]
    },
    {
      "cell_type": "code",
      "execution_count": 5,
      "metadata": {},
      "outputs": [
        {
          "name": "stdout",
          "output_type": "stream",
          "text": [
            "d:\\KIRESH_Projects\\Indic_Language_Support\\Notebooks\n"
          ]
        },
        {
          "name": "stderr",
          "output_type": "stream",
          "text": [
            "d:\\KIRESH_Projects\\Indic_Language_Support\\bfbvenv\\lib\\site-packages\\IPython\\core\\magics\\osm.py:417: UserWarning: using dhist requires you to install the `pickleshare` library.\n",
            "  self.shell.db['dhist'] = compress_dhist(dhist)[-100:]\n"
          ]
        }
      ],
      "source": [
        "cd ../.."
      ]
    },
    {
      "cell_type": "code",
      "execution_count": 6,
      "metadata": {},
      "outputs": [
        {
          "name": "stdout",
          "output_type": "stream",
          "text": [
            "Collecting fasttext\n",
            "  Using cached fasttext-0.9.2-cp39-cp39-win_amd64.whl\n",
            "Collecting pybind11>=2.2 (from fasttext)\n",
            "  Using cached pybind11-2.11.1-py3-none-any.whl.metadata (9.5 kB)\n",
            "Requirement already satisfied: setuptools>=0.7.0 in d:\\kiresh_projects\\indic_language_support\\bfbvenv\\lib\\site-packages (from fasttext) (68.2.2)\n",
            "Requirement already satisfied: numpy in d:\\kiresh_projects\\indic_language_support\\bfbvenv\\lib\\site-packages (from fasttext) (1.24.1)\n",
            "Using cached pybind11-2.11.1-py3-none-any.whl (227 kB)\n",
            "Installing collected packages: pybind11, fasttext\n",
            "Successfully installed fasttext-0.9.2 pybind11-2.11.1\n",
            "Requirement already satisfied: transformers in d:\\kiresh_projects\\indic_language_support\\bfbvenv\\lib\\site-packages (4.37.2)\n",
            "Requirement already satisfied: filelock in d:\\kiresh_projects\\indic_language_support\\bfbvenv\\lib\\site-packages (from transformers) (3.9.0)\n",
            "Requirement already satisfied: huggingface-hub<1.0,>=0.19.3 in d:\\kiresh_projects\\indic_language_support\\bfbvenv\\lib\\site-packages (from transformers) (0.20.3)\n",
            "Requirement already satisfied: numpy>=1.17 in d:\\kiresh_projects\\indic_language_support\\bfbvenv\\lib\\site-packages (from transformers) (1.24.1)\n",
            "Requirement already satisfied: packaging>=20.0 in d:\\kiresh_projects\\indic_language_support\\bfbvenv\\lib\\site-packages (from transformers) (23.2)\n",
            "Requirement already satisfied: pyyaml>=5.1 in d:\\kiresh_projects\\indic_language_support\\bfbvenv\\lib\\site-packages (from transformers) (6.0.1)\n",
            "Requirement already satisfied: regex!=2019.12.17 in d:\\kiresh_projects\\indic_language_support\\bfbvenv\\lib\\site-packages (from transformers) (2023.12.25)\n",
            "Requirement already satisfied: requests in d:\\kiresh_projects\\indic_language_support\\bfbvenv\\lib\\site-packages (from transformers) (2.28.1)\n",
            "Requirement already satisfied: tokenizers<0.19,>=0.14 in d:\\kiresh_projects\\indic_language_support\\bfbvenv\\lib\\site-packages (from transformers) (0.15.1)\n",
            "Requirement already satisfied: safetensors>=0.4.1 in d:\\kiresh_projects\\indic_language_support\\bfbvenv\\lib\\site-packages (from transformers) (0.4.2)\n",
            "Requirement already satisfied: tqdm>=4.27 in d:\\kiresh_projects\\indic_language_support\\bfbvenv\\lib\\site-packages (from transformers) (4.66.1)\n",
            "Requirement already satisfied: fsspec>=2023.5.0 in d:\\kiresh_projects\\indic_language_support\\bfbvenv\\lib\\site-packages (from huggingface-hub<1.0,>=0.19.3->transformers) (2023.10.0)\n",
            "Requirement already satisfied: typing-extensions>=3.7.4.3 in d:\\kiresh_projects\\indic_language_support\\bfbvenv\\lib\\site-packages (from huggingface-hub<1.0,>=0.19.3->transformers) (4.8.0)\n",
            "Requirement already satisfied: colorama in d:\\kiresh_projects\\indic_language_support\\bfbvenv\\lib\\site-packages (from tqdm>=4.27->transformers) (0.4.6)\n",
            "Requirement already satisfied: charset-normalizer<3,>=2 in d:\\kiresh_projects\\indic_language_support\\bfbvenv\\lib\\site-packages (from requests->transformers) (2.1.1)\n",
            "Requirement already satisfied: idna<4,>=2.5 in d:\\kiresh_projects\\indic_language_support\\bfbvenv\\lib\\site-packages (from requests->transformers) (3.4)\n",
            "Requirement already satisfied: urllib3<1.27,>=1.21.1 in d:\\kiresh_projects\\indic_language_support\\bfbvenv\\lib\\site-packages (from requests->transformers) (1.26.13)\n",
            "Requirement already satisfied: certifi>=2017.4.17 in d:\\kiresh_projects\\indic_language_support\\bfbvenv\\lib\\site-packages (from requests->transformers) (2022.12.7)\n"
          ]
        }
      ],
      "source": [
        "!pip3 install fasttext\n",
        "!pip3 install transformers"
      ]
    },
    {
      "cell_type": "code",
      "execution_count": 7,
      "metadata": {},
      "outputs": [
        {
          "name": "stderr",
          "output_type": "stream",
          "text": [
            "Cloning into 'IndicLID'...\n"
          ]
        }
      ],
      "source": [
        "!git clone https://github.com/AI4Bharat/IndicLID.git"
      ]
    },
    {
      "cell_type": "code",
      "execution_count": 8,
      "metadata": {},
      "outputs": [
        {
          "name": "stdout",
          "output_type": "stream",
          "text": [
            "d:\\KIRESH_Projects\\Indic_Language_Support\\Notebooks\\IndicLID\\Inference\n"
          ]
        },
        {
          "name": "stderr",
          "output_type": "stream",
          "text": [
            "d:\\KIRESH_Projects\\Indic_Language_Support\\bfbvenv\\lib\\site-packages\\IPython\\core\\magics\\osm.py:417: UserWarning: using dhist requires you to install the `pickleshare` library.\n",
            "  self.shell.db['dhist'] = compress_dhist(dhist)[-100:]\n"
          ]
        }
      ],
      "source": [
        "%cd \"./IndicLID/Inference\""
      ]
    },
    {
      "cell_type": "code",
      "execution_count": 9,
      "metadata": {},
      "outputs": [
        {
          "name": "stdout",
          "output_type": "stream",
          "text": [
            "d:\\KIRESH_Projects\\Indic_Language_Support\\Notebooks\\IndicLID\\Inference\\models\n"
          ]
        },
        {
          "name": "stderr",
          "output_type": "stream",
          "text": [
            "d:\\KIRESH_Projects\\Indic_Language_Support\\bfbvenv\\lib\\site-packages\\IPython\\core\\magics\\osm.py:417: UserWarning: using dhist requires you to install the `pickleshare` library.\n",
            "  self.shell.db['dhist'] = compress_dhist(dhist)[-100:]\n"
          ]
        }
      ],
      "source": [
        "%mkdir models\n",
        "# %cd \"./models\""
      ]
    },
    {
      "cell_type": "code",
      "execution_count": 11,
      "metadata": {},
      "outputs": [],
      "source": [
        "# https://github.com/AI4Bharat/IndicLID/releases/download/v1.0/indiclid-bert.zip\n",
        "# https://github.com/AI4Bharat/IndicLID/releases/download/v1.0/indiclid-ftn.zip\n",
        "# https://github.com/AI4Bharat/IndicLID/releases/download/v1.0/indiclid-ftr.zip\n",
        "\n",
        "# Download these above models and paste inside models folder"
      ]
    },
    {
      "cell_type": "code",
      "execution_count": 14,
      "metadata": {},
      "outputs": [
        {
          "name": "stderr",
          "output_type": "stream",
          "text": [
            "d:\\KIRESH_Projects\\Indic_Language_Support\\bfbvenv\\lib\\site-packages\\tqdm\\auto.py:21: TqdmWarning: IProgress not found. Please update jupyter and ipywidgets. See https://ipywidgets.readthedocs.io/en/stable/user_install.html\n",
            "  from .autonotebook import tqdm as notebook_tqdm\n",
            "Warning : `load_model` does not return WordVectorModel or SupervisedModel any more, but a `FastText` object which is very similar.\n",
            "Warning : `load_model` does not return WordVectorModel or SupervisedModel any more, but a `FastText` object which is very similar.\n"
          ]
        }
      ],
      "source": [
        "# Check if the model is working correctly\n",
        "from ai4bharat.IndicLID import IndicLID\n",
        "\n",
        "IndicLID_model = IndicLID(input_threshold = 0.5, roman_lid_threshold = 0.6)"
      ]
    },
    {
      "cell_type": "code",
      "execution_count": null,
      "metadata": {},
      "outputs": [],
      "source": []
    },
    {
      "cell_type": "code",
      "execution_count": 12,
      "metadata": {},
      "outputs": [
        {
          "data": {
            "text/plain": [
              "'d:\\\\KIRESH_Projects\\\\Indic_Language_Support\\\\Notebooks\\\\IndicLID\\\\Inference\\\\models'"
            ]
          },
          "execution_count": 12,
          "metadata": {},
          "output_type": "execute_result"
        }
      ],
      "source": [
        "pwd"
      ]
    },
    {
      "cell_type": "code",
      "execution_count": null,
      "metadata": {},
      "outputs": [],
      "source": []
    }
  ],
  "metadata": {
    "accelerator": "GPU",
    "colab": {
      "gpuType": "T4",
      "provenance": [],
      "toc_visible": true
    },
    "kernelspec": {
      "display_name": "Python 3",
      "name": "python3"
    },
    "language_info": {
      "codemirror_mode": {
        "name": "ipython",
        "version": 3
      },
      "file_extension": ".py",
      "mimetype": "text/x-python",
      "name": "python",
      "nbconvert_exporter": "python",
      "pygments_lexer": "ipython3",
      "version": "3.11.4"
    }
  },
  "nbformat": 4,
  "nbformat_minor": 0
}
